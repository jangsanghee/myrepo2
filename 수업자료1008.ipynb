{
 "cells": [
  {
   "cell_type": "code",
   "execution_count": 1,
   "metadata": {},
   "outputs": [
    {
     "data": {
      "text/plain": [
       "{1, 2, 3, 4, 5}"
      ]
     },
     "execution_count": 1,
     "metadata": {},
     "output_type": "execute_result"
    }
   ],
   "source": [
    "#set중복자료제외\n",
    "a = set([1,2,3,4,5,4])\n",
    "a = set([1,2,3,4,5,4]\n",
    "a"
   ]
  },
  {
   "cell_type": "code",
   "execution_count": 2,
   "metadata": {},
   "outputs": [],
   "source": [
    "#딕셔너리(Dictionary)\n"
   ]
  },
  {
   "cell_type": "code",
   "execution_count": 3,
   "metadata": {},
   "outputs": [
    {
     "ename": "SyntaxError",
     "evalue": "invalid syntax (<ipython-input-3-604d6b14c5ef>, line 3)",
     "output_type": "error",
     "traceback": [
      "\u001b[1;36m  File \u001b[1;32m\"<ipython-input-3-604d6b14c5ef>\"\u001b[1;36m, line \u001b[1;32m3\u001b[0m\n\u001b[1;33m    form pandas import Series, DataFrame\u001b[0m\n\u001b[1;37m         ^\u001b[0m\n\u001b[1;31mSyntaxError\u001b[0m\u001b[1;31m:\u001b[0m invalid syntax\n"
     ]
    }
   ],
   "source": [
    "#Pandas 불러오기(모듈 불러오기)\n",
    "import pandas as pn\n",
    "form pandas import Series, DataFrame"
   ]
  },
  {
   "cell_type": "code",
   "execution_count": 4,
   "metadata": {},
   "outputs": [
    {
     "ename": "NameError",
     "evalue": "name 'pd' is not defined",
     "output_type": "error",
     "traceback": [
      "\u001b[1;31m---------------------------------------------------------------------------\u001b[0m",
      "\u001b[1;31mNameError\u001b[0m                                 Traceback (most recent call last)",
      "\u001b[1;32m<ipython-input-4-6ba4329e3fcc>\u001b[0m in \u001b[0;36m<module>\u001b[1;34m\u001b[0m\n\u001b[1;32m----> 1\u001b[1;33m \u001b[0mdat\u001b[0m \u001b[1;33m=\u001b[0m \u001b[0mpd\u001b[0m\u001b[1;33m.\u001b[0m\u001b[0mread_csv\u001b[0m\u001b[1;33m(\u001b[0m\u001b[1;33m)\u001b[0m\u001b[1;33m\u001b[0m\u001b[1;33m\u001b[0m\u001b[0m\n\u001b[0m\u001b[0;32m      2\u001b[0m \u001b[0mdata\u001b[0m \u001b[1;33m=\u001b[0m \u001b[0mpd\u001b[0m\u001b[1;33m.\u001b[0m\u001b[0mDataFrame\u001b[0m\u001b[1;33m(\u001b[0m\u001b[1;33m)\u001b[0m\u001b[1;33m\u001b[0m\u001b[1;33m\u001b[0m\u001b[0m\n",
      "\u001b[1;31mNameError\u001b[0m: name 'pd' is not defined"
     ]
    }
   ],
   "source": [
    "dat = pd.read_csv()\n",
    "data = pd.DataFrame()"
   ]
  },
  {
   "cell_type": "code",
   "execution_count": 5,
   "metadata": {},
   "outputs": [
    {
     "ename": "ModuleNotFoundError",
     "evalue": "No module named 'pansdas'",
     "output_type": "error",
     "traceback": [
      "\u001b[1;31m---------------------------------------------------------------------------\u001b[0m",
      "\u001b[1;31mModuleNotFoundError\u001b[0m                       Traceback (most recent call last)",
      "\u001b[1;32m<ipython-input-5-e4bf93c2d7c9>\u001b[0m in \u001b[0;36m<module>\u001b[1;34m\u001b[0m\n\u001b[1;32m----> 1\u001b[1;33m \u001b[1;32mfrom\u001b[0m \u001b[0mpansdas\u001b[0m \u001b[1;32mimport\u001b[0m \u001b[0mSeries\u001b[0m\u001b[1;33m,\u001b[0m \u001b[0mDataFrame\u001b[0m\u001b[1;33m\u001b[0m\u001b[1;33m\u001b[0m\u001b[0m\n\u001b[0m",
      "\u001b[1;31mModuleNotFoundError\u001b[0m: No module named 'pansdas'"
     ]
    }
   ],
   "source": [
    "from pansdas import Series, DataFrame"
   ]
  },
  {
   "cell_type": "code",
   "execution_count": null,
   "metadata": {},
   "outputs": [],
   "source": [
    "data = DataFram\n",
    "#심현채\n",
    "#import로 불렀을때\n",
    "#pd.DataFrame\n",
    "#램 최소화인가요\n"
   ]
  },
  {
   "cell_type": "code",
   "execution_count": 7,
   "metadata": {},
   "outputs": [],
   "source": [
    "from pandas import Series, DataFrame"
   ]
  },
  {
   "cell_type": "code",
   "execution_count": 8,
   "metadata": {},
   "outputs": [
    {
     "data": {
      "text/plain": [
       "0    1000\n",
       "1    2000\n",
       "2    3000\n",
       "3    4000\n",
       "4    5000\n",
       "dtype: int64"
      ]
     },
     "execution_count": 8,
     "metadata": {},
     "output_type": "execute_result"
    }
   ],
   "source": [
    "score = Series( [ 1000,2000,3000,4000,5000])\n",
    "              index = ['2020-10']\n",
    "score\n",
    "#파이썬에서는 1,2,3,4라는 인덱스를 만든다라고 약속\n",
    "#인덱스를 지정해 주지 않으면 0에서 출발"
   ]
  },
  {
   "cell_type": "code",
   "execution_count": 9,
   "metadata": {},
   "outputs": [
    {
     "ename": "IndentationError",
     "evalue": "unexpected indent (<ipython-input-9-ebd077e04e7c>, line 2)",
     "output_type": "error",
     "traceback": [
      "\u001b[1;36m  File \u001b[1;32m\"<ipython-input-9-ebd077e04e7c>\"\u001b[1;36m, line \u001b[1;32m2\u001b[0m\n\u001b[1;33m    index = ['2020-10-04', '2020-10-05','2020-10-03']\u001b[0m\n\u001b[1;37m    ^\u001b[0m\n\u001b[1;31mIndentationError\u001b[0m\u001b[1;31m:\u001b[0m unexpected indent\n"
     ]
    }
   ],
   "source": [
    "score = Series( [ 1000,2000,3000,4000,5000])\n",
    "              index = ['2020-10-04', '2020-10-05','2020-10-03']\n",
    "score"
   ]
  },
  {
   "cell_type": "raw",
   "metadata": {},
   "source": [
    "#Dtype:int64 데이타하나당 들어가는 비트수"
   ]
  },
  {
   "cell_type": "code",
   "execution_count": null,
   "metadata": {},
   "outputs": [],
   "source": [
    "dat = { 'col1':[1,2,3,4],\n",
    "        'col2':[10,20,30,40],\n",
    "        'col3':[A,B,C,D]}\n"
   ]
  },
  {
   "cell_type": "code",
   "execution_count": 11,
   "metadata": {},
   "outputs": [],
   "source": [
    "import pandas as pd\n",
    "from pandas import Series, DataFrame"
   ]
  },
  {
   "cell_type": "code",
   "execution_count": 12,
   "metadata": {},
   "outputs": [
    {
     "name": "stdout",
     "output_type": "stream",
     "text": [
      "pandas 버전: 1.0.5\n"
     ]
    }
   ],
   "source": [
    "print(\"pandas 버전:\", pd.__version__)"
   ]
  },
  {
   "cell_type": "code",
   "execution_count": null,
   "metadata": {},
   "outputs": [],
   "source": [
    "##실습 2-1 시리즈 만들어보기\n",
    "* 5일간의 걸었던 걸음 횟수(시리즈)를 시리즈 자료형으로 만들어보기"
   ]
  },
  {
   "cell_type": "code",
   "execution_count": 15,
   "metadata": {},
   "outputs": [
    {
     "data": {
      "text/plain": [
       "{'walk1': [1000, 400],\n",
       " 'walk2': [500, 600],\n",
       " 'walk3': [600, 700],\n",
       " 'walk4': [800, 900],\n",
       " 'walk5': [900, 1000]}"
      ]
     },
     "execution_count": 15,
     "metadata": {},
     "output_type": "execute_result"
    }
   ],
   "source": [
    "import pandas as pd\n",
    "from pandas import Series, DataFrame\n",
    "\n",
    "dat = { 'walk1':[1000,400],\n",
    "        'walk2':[500, 600],\n",
    "        'walk3':[600, 700],\n",
    "        'walk4':[800,900],\n",
    "        'walk5':[900,1000]}\n",
    "dat\n"
   ]
  },
  {
   "cell_type": "code",
   "execution_count": 16,
   "metadata": {},
   "outputs": [
    {
     "name": "stdout",
     "output_type": "stream",
     "text": [
      "0     3000\n",
      "1     6000\n",
      "2     7000\n",
      "3    10000\n",
      "4    13000\n",
      "dtype: int64\n",
      "자료형 확인 : <class 'pandas.core.series.Series'>\n"
     ]
    }
   ],
   "source": [
    "score = Series([3000,6000,7000,10000,13000])\n",
    "print(score)\n",
    "print(\"자료형 확인 : {}\".format(type(score)))"
   ]
  },
  {
   "cell_type": "code",
   "execution_count": 17,
   "metadata": {},
   "outputs": [
    {
     "name": "stdout",
     "output_type": "stream",
     "text": [
      "RangeIndex(start=0, stop=5, step=1)\n"
     ]
    }
   ],
   "source": [
    "print(score.index)"
   ]
  },
  {
   "cell_type": "code",
   "execution_count": 18,
   "metadata": {},
   "outputs": [
    {
     "name": "stdout",
     "output_type": "stream",
     "text": [
      "[ 3000  6000  7000 10000 13000]\n"
     ]
    }
   ],
   "source": [
    "print(score.values)"
   ]
  },
  {
   "cell_type": "code",
   "execution_count": 19,
   "metadata": {},
   "outputs": [
    {
     "name": "stdout",
     "output_type": "stream",
     "text": [
      "int64\n"
     ]
    }
   ],
   "source": [
    "print(score.dtype)#자료형"
   ]
  },
  {
   "cell_type": "code",
   "execution_count": 20,
   "metadata": {},
   "outputs": [
    {
     "data": {
      "text/plain": [
       "2019-05-01     3000\n",
       "2019-05-02     6000\n",
       "2019-05-03     7000\n",
       "2019-05-04    10000\n",
       "2019-05-05    13000\n",
       "dtype: int64"
      ]
     },
     "execution_count": 20,
     "metadata": {},
     "output_type": "execute_result"
    }
   ],
   "source": [
    "score = Series([3000,6000,7000,10000,13000],\n",
    "              index=['2019-05-01','2019-05-02','2019-05-03','2019-05-04','2019-05-05'])\n",
    "score\n"
   ]
  },
  {
   "cell_type": "code",
   "execution_count": 24,
   "metadata": {},
   "outputs": [
    {
     "data": {
      "text/plain": [
       "2019-05-03     7000\n",
       "2019-05-04    10000\n",
       "2019-05-05    13000\n",
       "dtype: int64"
      ]
     },
     "execution_count": 24,
     "metadata": {},
     "output_type": "execute_result"
    }
   ],
   "source": [
    "score['2019-05-03':'2019-05-05']"
   ]
  },
  {
   "cell_type": "code",
   "execution_count": 25,
   "metadata": {},
   "outputs": [
    {
     "data": {
      "text/plain": [
       "2019-05-03     7000\n",
       "2019-05-04    10000\n",
       "2019-05-05    13000\n",
       "dtype: int64"
      ]
     },
     "execution_count": 25,
     "metadata": {},
     "output_type": "execute_result"
    }
   ],
   "source": [
    "score[2:5]"
   ]
  },
  {
   "cell_type": "code",
   "execution_count": 28,
   "metadata": {},
   "outputs": [
    {
     "name": "stdout",
     "output_type": "stream",
     "text": [
      "2019-05-03        NaN\n",
      "2019-05-04        NaN\n",
      "2019-05-05    12000.0\n",
      "2019-05-06    14000.0\n",
      "2019-05-07    16000.0\n",
      "2019-05-08        NaN\n",
      "2019-05-09        NaN\n",
      "dtype: float64\n"
     ]
    }
   ],
   "source": [
    "#강사님이 모두에게:  10:26 AM\n",
    "#실습 2-2\n",
    "#2명의 5일간의 걸음수를 시리즈를 각각 만들어서, 더해보자.\n",
    "#1명 2020/05/03 ~ 2020/05/07\n",
    "#1명 2020/05/05 ~ 2020/05/09\n",
    "#toto, gildong (예)\n",
    "score1 = Series([3000,6000,7000,10000,13000],\n",
    "              index=['2019-05-03','2019-05-04','2019-05-05','2019-05-06','2019-05-07'])\n",
    "\n",
    "score2 = Series([5000,4000,3000,20000,11000],\n",
    "              index=['2019-05-05','2019-05-06','2019-05-07','2019-05-08','2019-05-09'])\n",
    "print(score1 + score2)\n"
   ]
  },
  {
   "cell_type": "code",
   "execution_count": 29,
   "metadata": {},
   "outputs": [
    {
     "data": {
      "text/plain": [
       "2019-05-03        NaN\n",
       "2019-05-04        NaN\n",
       "2019-05-05    12000.0\n",
       "2019-05-06    14000.0\n",
       "2019-05-07    16000.0\n",
       "2019-05-08        NaN\n",
       "2019-05-09        NaN\n",
       "dtype: float64"
      ]
     },
     "execution_count": 29,
     "metadata": {},
     "output_type": "execute_result"
    }
   ],
   "source": [
    "#강사님\n",
    "count1 = Series([3000,6000,7000,10000,13000],\n",
    "             index=['2019-05-03','2019-05-04','2019-05-05','2019-05-06','2019-05-07'])\n",
    "\n",
    "count2 = Series([5000,4000,3000,20000,11000],\n",
    "              index=['2019-05-05','2019-05-06','2019-05-07','2019-05-08','2019-05-09'])\n",
    "count1+count2"
   ]
  },
  {
   "cell_type": "code",
   "execution_count": null,
   "metadata": {},
   "outputs": [],
   "source": [
    "python에서 NaN:Not a Number 숫자가 아니다."
   ]
  },
  {
   "cell_type": "code",
   "execution_count": 31,
   "metadata": {},
   "outputs": [
    {
     "data": {
      "text/html": [
       "<div>\n",
       "<style scoped>\n",
       "    .dataframe tbody tr th:only-of-type {\n",
       "        vertical-align: middle;\n",
       "    }\n",
       "\n",
       "    .dataframe tbody tr th {\n",
       "        vertical-align: top;\n",
       "    }\n",
       "\n",
       "    .dataframe thead th {\n",
       "        text-align: right;\n",
       "    }\n",
       "</style>\n",
       "<table border=\"1\" class=\"dataframe\">\n",
       "  <thead>\n",
       "    <tr style=\"text-align: right;\">\n",
       "      <th></th>\n",
       "      <th>col1</th>\n",
       "      <th>col2</th>\n",
       "      <th>col3</th>\n",
       "    </tr>\n",
       "  </thead>\n",
       "  <tbody>\n",
       "    <tr>\n",
       "      <th>0</th>\n",
       "      <td>1</td>\n",
       "      <td>10</td>\n",
       "      <td>A</td>\n",
       "    </tr>\n",
       "    <tr>\n",
       "      <th>1</th>\n",
       "      <td>2</td>\n",
       "      <td>20</td>\n",
       "      <td>B</td>\n",
       "    </tr>\n",
       "    <tr>\n",
       "      <th>2</th>\n",
       "      <td>3</td>\n",
       "      <td>30</td>\n",
       "      <td>C</td>\n",
       "    </tr>\n",
       "    <tr>\n",
       "      <th>3</th>\n",
       "      <td>4</td>\n",
       "      <td>40</td>\n",
       "      <td>D</td>\n",
       "    </tr>\n",
       "  </tbody>\n",
       "</table>\n",
       "</div>"
      ],
      "text/plain": [
       "   col1  col2 col3\n",
       "0     1    10    A\n",
       "1     2    20    B\n",
       "2     3    30    C\n",
       "3     4    40    D"
      ]
     },
     "execution_count": 31,
     "metadata": {},
     "output_type": "execute_result"
    }
   ],
   "source": [
    "from pandas import DataFrame\n",
    "\n",
    "dat = {'col1':[1,2,3,4],\n",
    "       'col2':[10,20,30,40],\n",
    "       'col3' :['A','B','C','D']}\n",
    "df = DataFrame(dat)\n",
    "df"
   ]
  },
  {
   "cell_type": "code",
   "execution_count": 35,
   "metadata": {},
   "outputs": [
    {
     "data": {
      "text/html": [
       "<div>\n",
       "<style scoped>\n",
       "    .dataframe tbody tr th:only-of-type {\n",
       "        vertical-align: middle;\n",
       "    }\n",
       "\n",
       "    .dataframe tbody tr th {\n",
       "        vertical-align: top;\n",
       "    }\n",
       "\n",
       "    .dataframe thead th {\n",
       "        text-align: right;\n",
       "    }\n",
       "</style>\n",
       "<table border=\"1\" class=\"dataframe\">\n",
       "  <thead>\n",
       "    <tr style=\"text-align: right;\">\n",
       "      <th></th>\n",
       "      <th>team1</th>\n",
       "      <th>team2</th>\n",
       "      <th>team3</th>\n",
       "      <th>team4</th>\n",
       "    </tr>\n",
       "  </thead>\n",
       "  <tbody>\n",
       "    <tr>\n",
       "      <th>2020-10-05</th>\n",
       "      <td>50</td>\n",
       "      <td>60</td>\n",
       "      <td>70</td>\n",
       "      <td>80</td>\n",
       "    </tr>\n",
       "    <tr>\n",
       "      <th>2020-10-06</th>\n",
       "      <td>50</td>\n",
       "      <td>40</td>\n",
       "      <td>30</td>\n",
       "      <td>40</td>\n",
       "    </tr>\n",
       "    <tr>\n",
       "      <th>2020-10-07</th>\n",
       "      <td>30</td>\n",
       "      <td>40</td>\n",
       "      <td>50</td>\n",
       "      <td>60</td>\n",
       "    </tr>\n",
       "    <tr>\n",
       "      <th>2020-10-08</th>\n",
       "      <td>40</td>\n",
       "      <td>30</td>\n",
       "      <td>22</td>\n",
       "      <td>10</td>\n",
       "    </tr>\n",
       "  </tbody>\n",
       "</table>\n",
       "</div>"
      ],
      "text/plain": [
       "            team1  team2  team3  team4\n",
       "2020-10-05     50     60     70     80\n",
       "2020-10-06     50     40     30     40\n",
       "2020-10-07     30     40     50     60\n",
       "2020-10-08     40     30     22     10"
      ]
     },
     "execution_count": 35,
     "metadata": {},
     "output_type": "execute_result"
    }
   ],
   "source": [
    "\n",
    "       # 실습 2-3\n",
    "# 팀이 4개의 팀이 있어요 각각의 4일 간의 팀별 점수를 넣어서 데이터 프레임을 만들기\n",
    "# 같은 날짜로 해주기\n",
    "from pandas import DataFrame\n",
    "\n",
    "dat = {'team1':[50,50,30,40],\n",
    "       'team2':[60,40,40,30],\n",
    "       'team3':[70,30,50,22],\n",
    "       'team4':[80,40,60,10]}\n",
    "#전준호님\n",
    "df = DataFrame(dat,index = pd.date_range(start='10/5/2020', end='10/8/2020'))\n",
    "df\n"
   ]
  },
  {
   "cell_type": "code",
   "execution_count": 33,
   "metadata": {},
   "outputs": [
    {
     "data": {
      "text/html": [
       "<div>\n",
       "<style scoped>\n",
       "    .dataframe tbody tr th:only-of-type {\n",
       "        vertical-align: middle;\n",
       "    }\n",
       "\n",
       "    .dataframe tbody tr th {\n",
       "        vertical-align: top;\n",
       "    }\n",
       "\n",
       "    .dataframe thead th {\n",
       "        text-align: right;\n",
       "    }\n",
       "</style>\n",
       "<table border=\"1\" class=\"dataframe\">\n",
       "  <thead>\n",
       "    <tr style=\"text-align: right;\">\n",
       "      <th></th>\n",
       "      <th>toto</th>\n",
       "      <th>apple</th>\n",
       "      <th>gildong</th>\n",
       "      <th>catanddog</th>\n",
       "    </tr>\n",
       "  </thead>\n",
       "  <tbody>\n",
       "    <tr>\n",
       "      <th>2020-10-05</th>\n",
       "      <td>1500</td>\n",
       "      <td>4000</td>\n",
       "      <td>2000</td>\n",
       "      <td>7000</td>\n",
       "    </tr>\n",
       "    <tr>\n",
       "      <th>2020-10-06</th>\n",
       "      <td>3000</td>\n",
       "      <td>5000</td>\n",
       "      <td>2500</td>\n",
       "      <td>5000</td>\n",
       "    </tr>\n",
       "    <tr>\n",
       "      <th>2020-10-07</th>\n",
       "      <td>5000</td>\n",
       "      <td>6000</td>\n",
       "      <td>3000</td>\n",
       "      <td>3000</td>\n",
       "    </tr>\n",
       "    <tr>\n",
       "      <th>2020-10-08</th>\n",
       "      <td>7000</td>\n",
       "      <td>5500</td>\n",
       "      <td>4000</td>\n",
       "      <td>5000</td>\n",
       "    </tr>\n",
       "    <tr>\n",
       "      <th>2020-10-09</th>\n",
       "      <td>5500</td>\n",
       "      <td>4500</td>\n",
       "      <td>3000</td>\n",
       "      <td>4000</td>\n",
       "    </tr>\n",
       "  </tbody>\n",
       "</table>\n",
       "</div>"
      ],
      "text/plain": [
       "            toto  apple  gildong  catanddog\n",
       "2020-10-05  1500   4000     2000       7000\n",
       "2020-10-06  3000   5000     2500       5000\n",
       "2020-10-07  5000   6000     3000       3000\n",
       "2020-10-08  7000   5500     4000       5000\n",
       "2020-10-09  5500   4500     3000       4000"
      ]
     },
     "execution_count": 33,
     "metadata": {},
     "output_type": "execute_result"
    }
   ],
   "source": [
    "#강사님이 모두에게:  10:48 AM\n",
    "from pandas import DataFrame\n",
    "team_score = { \"toto\":[1500,3000,5000,7000,5500],\n",
    "                \"apple\":[4000,5000,6000,5500,4500],\n",
    "                \"gildong\":[2000,2500,3000,4000,3000],\n",
    "                \"catanddog\":[7000,5000,3000,5000,4000]}\n",
    "\n",
    "team_df = DataFrame(team_score, index=pd.date_range(start='10/5/2020', end='10/9/2020') )\n",
    "team_df\n"
   ]
  },
  {
   "cell_type": "code",
   "execution_count": 34,
   "metadata": {},
   "outputs": [
    {
     "data": {
      "text/html": [
       "<div>\n",
       "<style scoped>\n",
       "    .dataframe tbody tr th:only-of-type {\n",
       "        vertical-align: middle;\n",
       "    }\n",
       "\n",
       "    .dataframe tbody tr th {\n",
       "        vertical-align: top;\n",
       "    }\n",
       "\n",
       "    .dataframe thead th {\n",
       "        text-align: right;\n",
       "    }\n",
       "</style>\n",
       "<table border=\"1\" class=\"dataframe\">\n",
       "  <thead>\n",
       "    <tr style=\"text-align: right;\">\n",
       "      <th></th>\n",
       "      <th>toto</th>\n",
       "      <th>apple</th>\n",
       "      <th>gildong</th>\n",
       "      <th>catanddog</th>\n",
       "    </tr>\n",
       "  </thead>\n",
       "  <tbody>\n",
       "    <tr>\n",
       "      <th>2019-10-05</th>\n",
       "      <td>1500</td>\n",
       "      <td>4000</td>\n",
       "      <td>2000</td>\n",
       "      <td>7000</td>\n",
       "    </tr>\n",
       "    <tr>\n",
       "      <th>2019-10-06</th>\n",
       "      <td>3000</td>\n",
       "      <td>5000</td>\n",
       "      <td>2500</td>\n",
       "      <td>5000</td>\n",
       "    </tr>\n",
       "    <tr>\n",
       "      <th>2019-10-07</th>\n",
       "      <td>5000</td>\n",
       "      <td>6000</td>\n",
       "      <td>3000</td>\n",
       "      <td>3000</td>\n",
       "    </tr>\n",
       "    <tr>\n",
       "      <th>2019-10-08</th>\n",
       "      <td>7000</td>\n",
       "      <td>5500</td>\n",
       "      <td>4000</td>\n",
       "      <td>5000</td>\n",
       "    </tr>\n",
       "    <tr>\n",
       "      <th>2019-10-09</th>\n",
       "      <td>5500</td>\n",
       "      <td>4500</td>\n",
       "      <td>3000</td>\n",
       "      <td>4000</td>\n",
       "    </tr>\n",
       "  </tbody>\n",
       "</table>\n",
       "</div>"
      ],
      "text/plain": [
       "            toto  apple  gildong  catanddog\n",
       "2019-10-05  1500   4000     2000       7000\n",
       "2019-10-06  3000   5000     2500       5000\n",
       "2019-10-07  5000   6000     3000       3000\n",
       "2019-10-08  7000   5500     4000       5000\n",
       "2019-10-09  5500   4500     3000       4000"
      ]
     },
     "execution_count": 34,
     "metadata": {},
     "output_type": "execute_result"
    }
   ],
   "source": [
    "#강사님이 모두에게:  10:48 AM\n",
    "ts_days_idx1 = pd.date_range('2019-10-05', periods=5)\n",
    "\n",
    "team_df1 = DataFrame(team_score, index= ts_days_idx1 )\n",
    "team_df1\n"
   ]
  },
  {
   "cell_type": "code",
   "execution_count": 43,
   "metadata": {},
   "outputs": [
    {
     "name": "stdout",
     "output_type": "stream",
     "text": [
      "2020-10-05    1500\n",
      "2020-10-06    3000\n",
      "2020-10-07    5000\n",
      "2020-10-08    7000\n",
      "2020-10-09    5500\n",
      "Freq: D, Name: toto, dtype: int64\n",
      "______\n",
      "            toto  apple\n",
      "2020-10-05  1500   4000\n",
      "2020-10-06  3000   5000\n",
      "2020-10-07  5000   6000\n",
      "2020-10-08  7000   5500\n",
      "2020-10-09  5500   4500\n",
      "______\n",
      "            toto  apple  gildong\n",
      "2020-10-05  1500   4000     2000\n",
      "2020-10-06  3000   5000     2500\n",
      "2020-10-07  5000   6000     3000\n",
      "2020-10-08  7000   5500     4000\n",
      "2020-10-09  5500   4500     3000\n",
      "______\n",
      "            toto  apple  gildong\n",
      "2020-10-05  1500   4000     2000\n",
      "2020-10-06  3000   5000     2500\n",
      "2020-10-07  5000   6000     3000\n",
      "2020-10-08  7000   5500     4000\n",
      "2020-10-09  5500   4500     3000\n"
     ]
    }
   ],
   "source": [
    "#수업실습\n",
    "print(team_df.iloc[:,0])\n",
    "print(\"______\")\n",
    "print(team_df.iloc[:,[0,1]])\n",
    "print(\"______\")\n",
    "print(team_df.iloc[:,0:3:1])\n",
    "print(\"______\")\n",
    "range_num = list(range(0,3,1))\n",
    "print(team_df.iloc[:,range_num])"
   ]
  },
  {
   "cell_type": "code",
   "execution_count": null,
   "metadata": {},
   "outputs": [],
   "source": []
  }
 ],
 "metadata": {
  "kernelspec": {
   "display_name": "Python 3",
   "language": "python",
   "name": "python3"
  },
  "language_info": {
   "codemirror_mode": {
    "name": "ipython",
    "version": 3
   },
   "file_extension": ".py",
   "mimetype": "text/x-python",
   "name": "python",
   "nbconvert_exporter": "python",
   "pygments_lexer": "ipython3",
   "version": "3.8.3"
  }
 },
 "nbformat": 4,
 "nbformat_minor": 4
}
