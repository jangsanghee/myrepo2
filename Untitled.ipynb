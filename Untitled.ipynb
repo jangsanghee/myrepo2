{
 "cells": [
  {
   "cell_type": "code",
   "execution_count": 9,
   "metadata": {},
   "outputs": [],
   "source": [
    "import sqlite3\n",
    "conn = sqlite3.connect('student.db')\n",
    "conn\n",
    "sql = \"\"\"\n",
    " CREATE TABLE student\n",
    " ( \n",
    " name text,\n",
    " no integer,\n",
    " addr text,\n",
    " gender text\n",
    " )\n",
    "\"\"\"\n",
    "c = conn.cursor()\n",
    "c.execute(\"DROP TABLE IF EXISTS student\")\n",
    "c.execute(sql)\n",
    "c.close()\n"
   ]
  },
  {
   "cell_type": "code",
   "execution_count": 10,
   "metadata": {},
   "outputs": [],
   "source": [
    "##여러개 데이터 넣기\n",
    "sql = \"\"\"\n",
    "INSERT INTO student VALUES\n",
    "(? ,? ,?, ?)\n",
    "\"\"\"\n",
    "\n",
    "data = [\n",
    "    ('학생3', 3, '경기도','female'),\n",
    "    ('학생4', 4, '춘천','female'),\n",
    "    ('학생5', 5, '대구','male')\n",
    "]\n",
    "\n",
    "c = conn.cursor()\n",
    "c.executemany(sql, data)\n",
    "c.close()\n",
    "conn.commit()"
   ]
  },
  {
   "cell_type": "code",
   "execution_count": 11,
   "metadata": {},
   "outputs": [
    {
     "name": "stdout",
     "output_type": "stream",
     "text": [
      "('학생3', 3, '경기도', 'female')\n"
     ]
    }
   ],
   "source": [
    "sql= \"select * from student\"\n",
    "c = conn.cursor()\n",
    "c.execute(sql)\n",
    "print( c.fetchone() )"
   ]
  },
  {
   "cell_type": "code",
   "execution_count": 12,
   "metadata": {},
   "outputs": [
    {
     "name": "stdout",
     "output_type": "stream",
     "text": [
      "('학생3', 3, '경기도', 'female')\n",
      "('학생4', 4, '춘천', 'female')\n",
      "('학생5', 5, '대구', 'male')\n"
     ]
    }
   ],
   "source": [
    "sql= \"select * from student\"\n",
    "c = conn.cursor()\n",
    "c.execute(sql)\n",
    "\n",
    "for s in c.fetchall():\n",
    "    print(s)"
   ]
  },
  {
   "cell_type": "code",
   "execution_count": null,
   "metadata": {},
   "outputs": [],
   "source": []
  }
 ],
 "metadata": {
  "kernelspec": {
   "display_name": "Python 3",
   "language": "python",
   "name": "python3"
  },
  "language_info": {
   "codemirror_mode": {
    "name": "ipython",
    "version": 3
   },
   "file_extension": ".py",
   "mimetype": "text/x-python",
   "name": "python",
   "nbconvert_exporter": "python",
   "pygments_lexer": "ipython3",
   "version": "3.8.3"
  }
 },
 "nbformat": 4,
 "nbformat_minor": 4
}
